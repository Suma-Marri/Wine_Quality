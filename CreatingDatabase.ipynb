{
 "cells": [
  {
   "cell_type": "code",
   "execution_count": 1,
   "id": "ee8160bf",
   "metadata": {},
   "outputs": [],
   "source": [
    "import psycopg2\n",
    "import pandas as pd"
   ]
  },
  {
   "cell_type": "code",
   "execution_count": 2,
   "id": "bdb98265",
   "metadata": {},
   "outputs": [],
   "source": [
    "conn = psycopg2.connect(user = \"postgres\",\n",
    "                          password = \"Srihan!2002\",\n",
    "                          host = \"localhost\",\n",
    "                          port = \"5432\",\n",
    "                          database = \"PortugalWine\")\n",
    "\n",
    "cur = conn.cursor()"
   ]
  },
  {
   "cell_type": "code",
   "execution_count": 3,
   "id": "77f2469c",
   "metadata": {},
   "outputs": [],
   "source": [
    "try:\n",
    "    cur.execute('DROP TABLE portugal_wine')\n",
    "except:\n",
    "    pass\n",
    "\n",
    "cur.execute('CREATE TABLE portugal_wine (id varchar(6) NOT NULL,\\\n",
    "                name varchar(1000) NOT NULL,\\\n",
    "                rating varchar(3),\\\n",
    "                price varchar(5),\\\n",
    "                taster varchar(100),\\\n",
    "                designation varchar(100),\\\n",
    "                variety varchar(100),\\\n",
    "                appellation varchar(100),\\\n",
    "                winery varchar(100),\\\n",
    "                alcohol varchar(100),\\\n",
    "                bottle_size varchar(10),\\\n",
    "                category varchar(100),\\\n",
    "                importer varchar(100),\\\n",
    "                date_published varchar(20));')\n",
    "conn.commit()"
   ]
  },
  {
   "cell_type": "code",
   "execution_count": 4,
   "id": "fcfc51eb",
   "metadata": {},
   "outputs": [],
   "source": [
    "cur.execute(\"COPY portugal_wine FROM 'C:\\\\Users\\\\Suma Marri\\\\Documents\\\\GitHub\\\\Wine_Quality\\\\PortugueseWines_WineEnthusiastScrape.csv' WITH DELIMITER AS ',' CSV\")\n",
    "conn.commit()"
   ]
  },
  {
   "cell_type": "code",
   "execution_count": 5,
   "id": "afaea78a",
   "metadata": {},
   "outputs": [],
   "source": [
    "try:\n",
    "    cur.execute('DROP TABLE portugal_review')\n",
    "except:\n",
    "    pass\n",
    "\n",
    "cur.execute('CREATE TABLE portugal_review (name varchar(100) NOT NULL,\\\n",
    "                region varchar(1000) NOT NULL,\\\n",
    "                year varchar(4),\\\n",
    "                color varchar(5),\\\n",
    "                castes varchar(100),\\\n",
    "                AlcoholPercentage varchar(2),\\\n",
    "                Producer varchar(100),\\\n",
    "                MinimunPrice varchar(2),\\\n",
    "                MaximumPrice varchar(2),\\\n",
    "                Judge varchar(100),\\\n",
    "                JudgeRating varchar(2),\\\n",
    "                JudgeNotes varchar(5000),\\\n",
    "                Label varchar(100),\\\n",
    "                Date varchar(20));')\n",
    "conn.commit()"
   ]
  },
  {
   "cell_type": "code",
   "execution_count": 6,
   "id": "02156f2e",
   "metadata": {},
   "outputs": [],
   "source": [
    "cur.execute(\"COPY portugal_wine FROM 'C:\\\\Users\\\\Suma Marri\\\\Documents\\\\GitHub\\\\Wine_Quality\\\\PortugueseWineReviews.csv' WITH DELIMITER AS ',' CSV\")\n",
    "conn.commit()"
   ]
  }
 ],
 "metadata": {
  "kernelspec": {
   "display_name": "Python 3 (ipykernel)",
   "language": "python",
   "name": "python3"
  },
  "language_info": {
   "codemirror_mode": {
    "name": "ipython",
    "version": 3
   },
   "file_extension": ".py",
   "mimetype": "text/x-python",
   "name": "python",
   "nbconvert_exporter": "python",
   "pygments_lexer": "ipython3",
   "version": "3.9.7"
  }
 },
 "nbformat": 4,
 "nbformat_minor": 5
}
